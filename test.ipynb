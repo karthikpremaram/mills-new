{
 "cells": [
  {
   "cell_type": "code",
   "execution_count": 9,
   "metadata": {},
   "outputs": [],
   "source": [
    "\"\"\" pydantic configuration for .env\"\"\"\n",
    "from pydantic_settings import BaseSettings, SettingsConfigDict\n",
    "\n",
    "class Settings(BaseSettings):\n",
    "    \"\"\" config \"\"\"\n",
    "    OPENAI_API_KEY : str\n",
    "    GEMINI_API_KEY : str\n",
    "    MILLIS_API_KEY : str\n",
    "    OPENAI_MODEL_NAME : str\n",
    "    \n",
    "    model_config = SettingsConfigDict(\n",
    "        env_file=\".env\",\n",
    "        extra=\"ignore\"\n",
    "    )\n",
    "    \n",
    "Config = Settings()"
   ]
  },
  {
   "cell_type": "code",
   "execution_count": 10,
   "id": "a8a5477b",
   "metadata": {},
   "outputs": [
    {
     "data": {
      "text/plain": [
       "'gpt-4.1-mini'"
      ]
     },
     "execution_count": 10,
     "metadata": {},
     "output_type": "execute_result"
    }
   ],
   "source": [
    "Config.OPENAI_MODEL_NAME"
   ]
  },
  {
   "cell_type": "code",
   "execution_count": null,
   "id": "f782db71",
   "metadata": {},
   "outputs": [],
   "source": []
  }
 ],
 "metadata": {
  "kernelspec": {
   "display_name": ".venv",
   "language": "python",
   "name": "python3"
  },
  "language_info": {
   "codemirror_mode": {
    "name": "ipython",
    "version": 3
   },
   "file_extension": ".py",
   "mimetype": "text/x-python",
   "name": "python",
   "nbconvert_exporter": "python",
   "pygments_lexer": "ipython3",
   "version": "3.9.13"
  }
 },
 "nbformat": 4,
 "nbformat_minor": 5
}
